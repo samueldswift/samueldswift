{
  "nbformat": 4,
  "nbformat_minor": 0,
  "metadata": {
    "colab": {
      "provenance": [],
      "include_colab_link": true
    },
    "kernelspec": {
      "display_name": "Python 3",
      "language": "python",
      "name": "python3"
    }
  },
  "cells": [
    {
      "cell_type": "markdown",
      "metadata": {
        "id": "view-in-github",
        "colab_type": "text"
      },
      "source": [
        "<a href=\"https://colab.research.google.com/github/samueldswift/samueldswift/blob/main/ISTA_322_F23_HW1.ipynb\" target=\"_parent\"><img src=\"https://colab.research.google.com/assets/colab-badge.svg\" alt=\"Open In Colab\"/></a>"
      ]
    },
    {
      "cell_type": "markdown",
      "metadata": {
        "id": "NC8f7soL0uZJ"
      },
      "source": [
        "# ISTA 322 Homework 1\n",
        "\n",
        "Welcome to your first homework!  This one is focused on just practicing some of the exercises covered in the last coding lesson.  There are also some more open-ended questions with elements that I didn't demonstrate in that lesson... they're structurally similar, but you might need to google a thing or two to figure out the correction function.  \n",
        "\n",
        "You need to add your own code blocks to answer any of the coding questions.  Also, at the end of some sections I have a 'questions' section.  Add a text cell right below and enter your answers."
      ]
    },
    {
      "cell_type": "markdown",
      "source": [
        "#Submission Instruction\n",
        "\n",
        "1) First create a copy of this notebook in your drive and rename it to \"ISTA_322_F23_HW1_firstname_lastname\". (e.g. my copy would be ISTA_322_F23_HW1_sara_riazi)\n",
        "\n",
        "2) When you are ready to submit. Prepare three files: the python file (File->Download->Download .py), the notebook file (File->Download->Download .ipynb), and **PDF** version of your notebook (**after running all cells**).\n",
        "Note: you can take a screenshot and create the pdf out of them.\n",
        "\n",
        "3) Create the directory name firstname_lastname_hw1 (e.g my directory would be sara_riazi_hw1) put all three files in it, ZIP, and submit in D2L.\n"
      ],
      "metadata": {
        "id": "7j_NSultJDMy"
      }
    },
    {
      "cell_type": "markdown",
      "metadata": {
        "id": "Zw99uzuT1vLk"
      },
      "source": [
        "## Loading and Importing\n",
        "\n",
        "First thing you need to do is load up your packages and then bring in the data.  \n",
        "\n",
        "This dataset contains daily values for Amazon's stock.  This includes opening, closing, high price, low price, and also the amount of stock traded."
      ]
    },
    {
      "cell_type": "code",
      "metadata": {
        "id": "qSPHhsZlyowG"
      },
      "source": [
        "import pandas as pd\n",
        "# also import matplotlib.pyplot and numpy with the proper aliases\n",
        "import numpy as np\n",
        "import matplotlib.pyplot as plt\n"
      ],
      "execution_count": null,
      "outputs": []
    },
    {
      "cell_type": "code",
      "source": [],
      "metadata": {
        "id": "pGLRq5ACUvps"
      },
      "execution_count": null,
      "outputs": []
    },
    {
      "cell_type": "code",
      "metadata": {
        "id": "tvgt5t51yaKN"
      },
      "source": [
        "# Bring in your data. You just need to run this cell.\n",
        "price = pd.read_csv(\"https://docs.google.com/spreadsheets/d/1lCkFZhz-NGTuE1ZilzJA_ZYBZsbCSDpS2MllyGZWjX4/gviz/tq?tqx=out:csv\")"
      ],
      "execution_count": null,
      "outputs": []
    },
    {
      "cell_type": "markdown",
      "metadata": {
        "id": "bZCHUmA72PvI"
      },
      "source": [
        "## Exploring the whole dataset\n",
        "\n",
        "Now make some code cells to explore the whole dataset.  I want you to do the following:\n",
        "\n",
        "- Get the number of rows and columns\n",
        "- Get the datatypes of each column\n",
        "- Look at the first five rows\n",
        "- Look at the last five rows\n",
        "- Look at summary statistics"
      ]
    },
    {
      "cell_type": "markdown",
      "metadata": {
        "id": "zh8bXhN98PlZ"
      },
      "source": [
        "### Questions\n",
        "Write down Pandas instruction to answer these queries.\n",
        "- How many rows are in this dataset?\n",
        "- Do any datatypes need to be converted?\n",
        "- What was the mean and all time high opening stock price?"
      ]
    },
    {
      "cell_type": "markdown",
      "source": [
        "Q1: [2 points] How many rows are in this dataset?\n"
      ],
      "metadata": {
        "id": "-oCBYVx1vxS3"
      }
    },
    {
      "cell_type": "code",
      "source": [
        "#do not change the function name\n",
        "def price_number_of_row():\n",
        "  return 0 ##replace this line with return of the correct statement"
      ],
      "metadata": {
        "id": "FnSWBsml6NdD"
      },
      "execution_count": null,
      "outputs": []
    },
    {
      "cell_type": "markdown",
      "source": [
        "As an example, I will provide the answer to this question:"
      ],
      "metadata": {
        "id": "YSmKJrwt7jcc"
      }
    },
    {
      "cell_type": "code",
      "source": [
        "def price_number_of_row_key():\n",
        "  return price.shape[0];\n"
      ],
      "metadata": {
        "id": "MCIlu0wK64f7"
      },
      "execution_count": null,
      "outputs": []
    },
    {
      "cell_type": "code",
      "source": [
        "print(price_number_of_row_key())"
      ],
      "metadata": {
        "id": "eY-52Ktz8Gp8"
      },
      "execution_count": null,
      "outputs": []
    },
    {
      "cell_type": "markdown",
      "source": [
        "Question 2: [2 points] Convert the datatype of 'Date' to an appropriate type"
      ],
      "metadata": {
        "id": "uEIaffXC9Zga"
      }
    },
    {
      "cell_type": "code",
      "source": [
        "def convert_date_type():\n",
        "  pass #replace this line with the correct state. You don't need to return"
      ],
      "metadata": {
        "id": "_4E66yTS9v9J"
      },
      "execution_count": null,
      "outputs": []
    },
    {
      "cell_type": "markdown",
      "source": [
        "I give you the grader statement for this one too:"
      ],
      "metadata": {
        "id": "igQuGDKN-nfd"
      }
    },
    {
      "cell_type": "code",
      "source": [
        "convert_date_type();\n",
        "print(price.Date.dtype);\n"
      ],
      "metadata": {
        "id": "YbJA0CF--gPF"
      },
      "execution_count": null,
      "outputs": []
    },
    {
      "cell_type": "markdown",
      "source": [
        "Question 3: [2 points] What is the mean of all opening stock price?"
      ],
      "metadata": {
        "id": "ZCiXROjTCSpC"
      }
    },
    {
      "cell_type": "code",
      "source": [
        "def mean_of_opening():\n",
        "  return 0; #replace this with the correct statement"
      ],
      "metadata": {
        "id": "q-336loqCP3i"
      },
      "execution_count": null,
      "outputs": []
    },
    {
      "cell_type": "code",
      "source": [
        "print(mean_of_opening())"
      ],
      "metadata": {
        "id": "1hEhFO7DUcRW"
      },
      "execution_count": null,
      "outputs": []
    },
    {
      "cell_type": "markdown",
      "source": [
        "Question 4: [4 points] What is the daily min volume for trades after 2010 (including 2010-1-1)"
      ],
      "metadata": {
        "id": "PpWzamKW8SoX"
      }
    },
    {
      "cell_type": "code",
      "source": [
        "def min_daily_volume_after_2010():\n",
        "  #hint first construct a new dataframe by limiting the price for dates greater than 2010\n",
        "  return 0 #replace this with your answer"
      ],
      "metadata": {
        "id": "IcvY-hi26qFi"
      },
      "execution_count": null,
      "outputs": []
    },
    {
      "cell_type": "code",
      "source": [
        "print(min_daily_volume_after_2010())"
      ],
      "metadata": {
        "id": "oT90et_g97Md"
      },
      "execution_count": null,
      "outputs": []
    },
    {
      "cell_type": "markdown",
      "source": [
        "Question 5: [4 points] Make a new column called up_binom. The value of up_binom is 1 if the closing price of the stock is higher (>=) than opening price, and 0 otherwise. Then find the number days the stock closed higher than openning.\n"
      ],
      "metadata": {
        "id": "Q_eXV-yO-YO0"
      }
    },
    {
      "cell_type": "code",
      "source": [
        "def number_of_green_days():\n",
        "  return 0; #replace this line with your answer"
      ],
      "metadata": {
        "id": "-NDzeA4j_Ese"
      },
      "execution_count": null,
      "outputs": []
    },
    {
      "cell_type": "code",
      "source": [
        "print(number_of_green_days());"
      ],
      "metadata": {
        "id": "6PgiB6w2UilL"
      },
      "execution_count": null,
      "outputs": []
    },
    {
      "cell_type": "markdown",
      "source": [
        "Question 5 [4 points] Plot the Closing price of the stock **after 2020**. The x-axis is day and the y-axis is the Closing price.\n",
        "(See the Intro to Charts notebook)"
      ],
      "metadata": {
        "id": "CQ0DdBLo_tfe"
      }
    },
    {
      "cell_type": "code",
      "source": [
        "#plot\n"
      ],
      "metadata": {
        "id": "prLQFrNuAbGp"
      },
      "execution_count": null,
      "outputs": []
    },
    {
      "cell_type": "markdown",
      "metadata": {
        "id": "qyCr9-KWDRMj"
      },
      "source": [
        "\n",
        "\n",
        "Question 6: [4 points] If you had bought 1000$ worth Amazon stock (assume you could have fraction of stock too) on 1999-12-31 at opening, how much money would you have had if you sell all of your shared on 2019-12-31 at closing?\n",
        "\n"
      ]
    },
    {
      "cell_type": "code",
      "source": [
        "# I'm going to make your life easier and set the date column you created as the index.\n",
        "# This will make searching and extracting the values much easier\n",
        "price = price.set_index('Date')"
      ],
      "metadata": {
        "id": "q1rSAU3_WHNZ"
      },
      "execution_count": null,
      "outputs": []
    },
    {
      "cell_type": "code",
      "metadata": {
        "id": "c5Ar2LDdJGHr"
      },
      "source": [
        "def market_value(buy_date, sell_date):\n",
        "  return 0; #replace this with your answer\n"
      ],
      "execution_count": null,
      "outputs": []
    },
    {
      "cell_type": "code",
      "source": [
        "print(market_value('1999-12-31', '2019-12-31'))"
      ],
      "metadata": {
        "id": "GqwSNbqgaoAx"
      },
      "execution_count": null,
      "outputs": []
    },
    {
      "cell_type": "markdown",
      "metadata": {
        "id": "S96lJStTQuTR"
      },
      "source": [
        "## JSON\n",
        "\n",
        "The last part of the assignment will have you working with some basic JSON data.  The URL links to a JSON file with stats on every episode of the TV show Silicon Valley\n"
      ]
    },
    {
      "cell_type": "code",
      "metadata": {
        "id": "SuhZceOOQvwq"
      },
      "source": [
        "# First just run this to import the data\n",
        "import requests\n",
        "url = 'http://api.tvmaze.com/singlesearch/shows?q=Silicon Valley&embed=episodes'\n",
        "sv_json_obj = requests.get(url)\n",
        "sv_json = sv_json_obj.json()"
      ],
      "execution_count": null,
      "outputs": []
    },
    {
      "cell_type": "markdown",
      "metadata": {
        "id": "V6150nhdAdA0"
      },
      "source": [
        "### Viewing your JSON\n",
        "\n",
        "Now just to look at what's in the JSON a bit\n",
        "\n",
        "- Make a code cell that just calls the JSON we named above.\n",
        "- Also run the .keys() function on the object."
      ]
    },
    {
      "cell_type": "markdown",
      "metadata": {
        "id": "brWt89epBk2M"
      },
      "source": [
        "### Questions\n",
        "\n",
        "Based on these responses, what keys are present in the JSON.  More importantly, are there any keys that don't get returned by .keys()?"
      ]
    },
    {
      "cell_type": "code",
      "metadata": {
        "id": "ImsP-F-k_g9M"
      },
      "source": [
        "# First, you can see the structure after moving down a level into '_embedded'\n",
        "sv_json['_embedded']"
      ],
      "execution_count": null,
      "outputs": []
    },
    {
      "cell_type": "markdown",
      "source": [
        "Question 7: [4 points] Find the day that show premiered."
      ],
      "metadata": {
        "id": "dWoI037MHNFY"
      }
    },
    {
      "cell_type": "code",
      "source": [
        "def get_show_premiered():\n",
        "  return 0; #replace this with the correct statements\n"
      ],
      "metadata": {
        "id": "KAuJ25ChFhEy"
      },
      "execution_count": null,
      "outputs": []
    },
    {
      "cell_type": "code",
      "source": [
        "print(get_show_premiered());"
      ],
      "metadata": {
        "id": "i63vUu_XWMJc"
      },
      "execution_count": null,
      "outputs": []
    },
    {
      "cell_type": "markdown",
      "source": [
        "Question 8: [4 points] Get the summary of a specific episode."
      ],
      "metadata": {
        "id": "i0xjtPM5HgMe"
      }
    },
    {
      "cell_type": "code",
      "source": [
        "def get_summary(season, episode):\n",
        "  return 0; # replace this with the correct statement"
      ],
      "metadata": {
        "id": "32wqqo15HfbX"
      },
      "execution_count": null,
      "outputs": []
    },
    {
      "cell_type": "code",
      "source": [
        "print(get_summary(2,5))"
      ],
      "metadata": {
        "id": "2Dhhfm4FK4Mw"
      },
      "execution_count": null,
      "outputs": []
    }
  ]
}